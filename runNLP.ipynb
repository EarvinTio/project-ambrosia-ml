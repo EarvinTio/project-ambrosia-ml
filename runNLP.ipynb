{
 "cells": [
  {
   "cell_type": "code",
   "execution_count": 1,
   "metadata": {},
   "outputs": [],
   "source": [
    "import json\n",
    "import numpy as np\n",
    "import pandas as pd\n",
    "from scipy import linalg\n",
    "from sklearn.feature_extraction.text import CountVectorizer"
   ]
  },
  {
   "cell_type": "markdown",
   "metadata": {},
   "source": [
    "## Input:\n",
    "\n",
    "1. journal_entry → string\n",
    "\n",
    "\n",
    "2. parameters → .npz file containing:\n",
    "    * U → NumPy matrix (int)\n",
    "    * sigma → NumPy matrix (int)\n",
    "    * VT → NumPy matrix (int)\n",
    "    * vocab → NumPy matrix (str)\n",
    "\n",
    "\n",
    "3. tasks_json\n",
    "    * keys are just indices\n",
    "    * example:\n",
    "    \n",
    ">```\n",
    "{\n",
    "\t\"0\": \"Did you know: It's better to challenge a fear food...\",\n",
    "\t\"1\": \"Did you know: When you eat low-carbs during the day...\",\n",
    "\t\"2\": \"Did you know: Asians eat lots of rice and carbs...\",\n",
    "\t\"3\": \"Did you know: If you start eating when you're not hungry...\",\n",
    "\t\"4\": \"Did you know: If you don't have enough carbs...\",\n",
    "\t\"5\": \"Did you know: Fibre helps digestion and is necessary...\",\n",
    "\t\"6\": \"Did you know: It is recommended that people consume fish...\",\n",
    "\t\"7\": \"Did you know: Many people consume far more protein than they need...\"\n",
    "}```"
   ]
  },
  {
   "cell_type": "code",
   "execution_count": 1,
   "metadata": {},
   "outputs": [],
   "source": [
    "def nlp(journal_entry,parameters,tasks_json,dim=100000):\n",
    "    \n",
    "    npzfile = np.load(parameters)\n",
    "    U, sigma, VT, vocab = npzfile['U'], npzfile['sigma'], npzfile['VT'], npzfile['vocab']\n",
    "    \n",
    "    U = U[:,:dim+1]\n",
    "    sigma = sigma[:dim+1,:dim+1]\n",
    "    VT = VT[:dim+1,:]\n",
    "    \n",
    "    cv = CountVectorizer(vocabulary=vocab)\n",
    "    query = np.matrix(cv.fit_transform([journal_entry]).toarray())\n",
    "    \n",
    "    query_proj = query*U*np.linalg.inv(sigma)\n",
    "    v = query_proj.tolist()[0]\n",
    "\n",
    "    similarity = []\n",
    "    for coords in VT.T:\n",
    "        u = coords\n",
    "        similarity.extend([np.dot(u,v)/np.linalg.norm(u)/np.linalg.norm(v)])\n",
    "    \n",
    "    with open(tasks_json, 'r') as fp:\n",
    "        tasks_dict = json.load(fp)\n",
    "    indices = list(tasks_dict.keys())\n",
    "    tasks = list(tasks_dict.values())\n",
    "    sim, i, recs = zip(*sorted(zip(similarity, indices, tasks), key=lambda x: x[0], reverse=True))\n",
    "    \n",
    "    recs_dict = dict(zip(list(i),list(recs)))\n",
    "    \n",
    "    return(recs_dict)\n",
    "\n"
   ]
  },
  {
   "cell_type": "markdown",
   "metadata": {},
   "source": [
    "## Output:\n",
    "\n",
    "1. recommendations → json\n",
    "    * essentially mimics the `tasks_json` input, but sorted\n",
    "    * no new indices, just sorted\n",
    "    * example:\n",
    "\n",
    ">```\n",
    "{\n",
    "    \"2\": \"Did you know: Asians eat lots of rice and carbs...\",\n",
    "    \"1\": \"Did you know: When you eat low-carbs during the day...\",\n",
    "    \"3\": \"Did you know: If you start eating when you’re not hungry...\",\n",
    "    \"5\": \"Did you know: Fibre helps digestion and is necessary...\",\n",
    "    \"4\": \"Did you know: If you don’t have enough carbs...\",\n",
    "    \"0\": \"Did you know: It’s better to challenge a fear food...\",\n",
    "    \"7\": \"Did you know: Many people consume far more protein than they need...\",\n",
    "    \"6\": \"Did you know: It is recommended that people consume fish..\"\n",
    "}```"
   ]
  },
  {
   "cell_type": "code",
   "execution_count": null,
   "metadata": {},
   "outputs": [],
   "source": []
  }
 ],
 "metadata": {
  "kernelspec": {
   "display_name": "Python 3",
   "language": "python",
   "name": "python3"
  },
  "language_info": {
   "codemirror_mode": {
    "name": "ipython",
    "version": 3
   },
   "file_extension": ".py",
   "mimetype": "text/x-python",
   "name": "python",
   "nbconvert_exporter": "python",
   "pygments_lexer": "ipython3",
   "version": "3.7.1"
  }
 },
 "nbformat": 4,
 "nbformat_minor": 2
}
