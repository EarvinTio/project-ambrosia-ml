{
 "cells": [
  {
   "cell_type": "code",
   "execution_count": 1,
   "metadata": {},
   "outputs": [],
   "source": [
    "import torch\n",
    "from torch import nn\n",
    "from torch.autograd import Variable"
   ]
  },
  {
   "cell_type": "markdown",
   "metadata": {},
   "source": [
    "## Input:\n",
    "\n",
    "1. ieas_results → binary array `n=23`\n",
    "\n",
    "\n",
    "2. model_path → .pth file containing the weights of the trained model\n",
    "\n"
   ]
  },
  {
   "cell_type": "code",
   "execution_count": 2,
   "metadata": {},
   "outputs": [],
   "source": [
    "def create_model():\n",
    "    \n",
    "    D_in = 4\n",
    "    H1 = 100\n",
    "    H2 = 75\n",
    "    H3 = 50\n",
    "    H4 = 25\n",
    "    D_out = 13\n",
    "    \n",
    "    return nn.Sequential(\n",
    "        nn.Linear(D_in, H1),\n",
    "        nn.Tanh(),\n",
    "        nn.Linear(H1, H2),\n",
    "        nn.ReLU(),\n",
    "        nn.Linear(H2, H3),\n",
    "        nn.ReLU(),\n",
    "        nn.Linear(H3,H4),\n",
    "        nn.ReLU(),\n",
    "        nn.Linear(H4, D_out),\n",
    "        nn.Softmax(dim=0)\n",
    "    )\n",
    "\n"
   ]
  },
  {
   "cell_type": "code",
   "execution_count": 3,
   "metadata": {},
   "outputs": [],
   "source": [
    "def create_feature_vector(responses):\n",
    "    if len(responses) != 23:\n",
    "        print(\"The survey has missing values.\")\n",
    "        return 0\n",
    "    else:\n",
    "        feature_vector = Variable(torch.Tensor([sum(responses[0:6])/6 , sum(responses[7:14])/8,\n",
    "                          sum(1-responses[15:20])/6 , sum(1-responses[21:23])/3]))\n",
    "        return feature_vector\n",
    "\n"
   ]
  },
  {
   "cell_type": "code",
   "execution_count": 4,
   "metadata": {},
   "outputs": [],
   "source": [
    "def bpmll(ieas_results,model_path):\n",
    "    \n",
    "    model = create_model()\n",
    "    model.load_state_dict(torch.load(model_path))\n",
    "    model.eval()\n",
    "    \n",
    "    feature_vector = create_feature_vector(Variable(torch.Tensor(ieas_results)))\n",
    "    output = model(feature_vector)\n",
    "    categories = torch.argsort(output).tolist()[::-1]\n",
    "    categories_sorted = [categories[i] + 1 for i in range(len(categories))]\n",
    "    \n",
    "    return(categories_sorted)\n",
    "\n"
   ]
  },
  {
   "cell_type": "markdown",
   "metadata": {},
   "source": [
    "## Output:\n",
    "\n",
    "1. categories_sorted → array `n=13`\n",
    "    * contains the categories (i.e. `int` values from 1 to 13)\n",
    "    * sorted by highest probability\n",
    "    * example: `[10, 6, 3, 9, 12, 1, 2, 8, 13, 4, 5, 7, 11]`\n",
    "    * **category 10** is the most likely to help while **category 11** is least likely\n",
    "    * 1 indexed to match semantic naming convention of task JSONs and NumPy resources to be used in the next step (NLP)"
   ]
  },
  {
   "cell_type": "code",
   "execution_count": null,
   "metadata": {},
   "outputs": [],
   "source": []
  }
 ],
 "metadata": {
  "kernelspec": {
   "display_name": "Python 3",
   "language": "python",
   "name": "python3"
  },
  "language_info": {
   "codemirror_mode": {
    "name": "ipython",
    "version": 3
   },
   "file_extension": ".py",
   "mimetype": "text/x-python",
   "name": "python",
   "nbconvert_exporter": "python",
   "pygments_lexer": "ipython3",
   "version": "3.7.1"
  }
 },
 "nbformat": 4,
 "nbformat_minor": 2
}
