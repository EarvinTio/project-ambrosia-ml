{
 "cells": [
  {
   "cell_type": "code",
   "execution_count": 1,
   "metadata": {},
   "outputs": [],
   "source": [
    "from ipynb.fs.full.runBPMLL import create_model, create_feature_vector, bpmll\n",
    "from ipynb.fs.full.runNLP import nlp"
   ]
  },
  {
   "cell_type": "code",
   "execution_count": 10,
   "metadata": {
    "scrolled": false
   },
   "outputs": [],
   "source": [
    "def sortAllTasks(journal_entry,categories_sorted):\n",
    "    \n",
    "    all_tasks = {}\n",
    "\n",
    "    for i, category in enumerate(categories_sorted):\n",
    "        tasks = {}\n",
    "        tasks[\"category\"] = category\n",
    "\n",
    "        # RESOURCE\n",
    "        parameters = \"nlp_resources/nlp_\"+str(category)+\".npz\"\n",
    "        # Need to implement logic that Arrch and I discussed - i.e. if you go through all the task\n",
    "\n",
    "        # RESOURCE\n",
    "        tasks_json = \"tasks/tasks_\"+str(category)+\".json\"\n",
    "        # are we filtering? and then passing the JSON? or filtering the results?\n",
    "\n",
    "        tasks[\"tasks\"] = nlp(journal_entry,parameters,tasks_json,dim=5)\n",
    "        all_tasks[str(i)] = tasks\n",
    "        \n",
    "    return all_tasks\n",
    "\n"
   ]
  },
  {
   "cell_type": "code",
   "execution_count": 3,
   "metadata": {},
   "outputs": [],
   "source": [
    "def getTopKTasks(all_tasks,k=3):\n",
    "    if k > 13:\n",
    "        print('Throw an error message')\n",
    "        return 0\n",
    "    else:\n",
    "        return [list(all_tasks[str(i)]['tasks'].values())[0] for i in range(k)]\n",
    "\n"
   ]
  },
  {
   "cell_type": "code",
   "execution_count": 4,
   "metadata": {},
   "outputs": [
    {
     "name": "stdout",
     "output_type": "stream",
     "text": [
      "[10, 6, 3, 9, 12, 1, 2, 8, 13, 4, 5, 7, 11]\n"
     ]
    }
   ],
   "source": [
    "# RESOURCE\n",
    "model_path = \"model.pth\"\n",
    "\n",
    "# INPUT\n",
    "ieas_results = [1,0,0,0,0,0,0,0,0,0,0,1,0,0,1,0,0,0,0,0,1,1,1]\n",
    "\n",
    "# OUTPUT --> INPUT\n",
    "categories_sorted = bpmll(ieas_results,model_path)\n",
    "\n",
    "print(categories_sorted)"
   ]
  },
  {
   "cell_type": "code",
   "execution_count": 11,
   "metadata": {},
   "outputs": [],
   "source": [
    "# INPUT\n",
    "journal_entry = \"Did you know: Asians eat lots of rice and carbs, while Europeans typically include lots of fat in their diet?\"\n",
    "\n",
    "# OUTPUT --> INPUT\n",
    "all_tasks = sortAllTasks(journal_entry,categories_sorted)"
   ]
  },
  {
   "cell_type": "markdown",
   "metadata": {},
   "source": [
    "### all_tasks\n",
    "\n",
    "Example:\n",
    "\n",
    ">```\n",
    "{\n",
    "    \"1\": {\n",
    "        \"category\": 10,\n",
    "        \"tasks\": {\n",
    "            \"30\": \"Where do you eat most of your meals?\",\n",
    "            \"3\": \"Growing up, were you punished if you did not follow the household food rules?\",\n",
    "```\n",
    "\n",
    "---\n",
    "\n",
    "* This is a master dictionary with **13 entries** in the highest level\n",
    "* The keys of the highest level correspond to the **rank** of the category\n",
    "* Within each _rank_, the _category_ is indicated, and the _tasks_ are listed\n",
    "* The _tasks_ themselves are also stored in a dictionary\n",
    "    * The keys of this dictionary are the **indices** of the task within the category (see `runNLP`)\n",
    "    * the values are the tasks themselves"
   ]
  },
  {
   "cell_type": "code",
   "execution_count": 12,
   "metadata": {},
   "outputs": [
    {
     "data": {
      "text/plain": [
       "['Where do you eat most of your meals?',\n",
       " 'Action: Eat a snack today. Observe whether it affects the frequency of your hunger.',\n",
       " 'Action: Select a time and a place in which you can eat without distraction.']"
      ]
     },
     "execution_count": 12,
     "metadata": {},
     "output_type": "execute_result"
    }
   ],
   "source": [
    "# selects top k categories, then returns the top task within that category\n",
    "# k < 14\n",
    "getTopKTasks(all_tasks,3)"
   ]
  },
  {
   "cell_type": "code",
   "execution_count": null,
   "metadata": {},
   "outputs": [],
   "source": []
  }
 ],
 "metadata": {
  "kernelspec": {
   "display_name": "Python 3",
   "language": "python",
   "name": "python3"
  },
  "language_info": {
   "codemirror_mode": {
    "name": "ipython",
    "version": 3
   },
   "file_extension": ".py",
   "mimetype": "text/x-python",
   "name": "python",
   "nbconvert_exporter": "python",
   "pygments_lexer": "ipython3",
   "version": "3.7.1"
  }
 },
 "nbformat": 4,
 "nbformat_minor": 2
}
