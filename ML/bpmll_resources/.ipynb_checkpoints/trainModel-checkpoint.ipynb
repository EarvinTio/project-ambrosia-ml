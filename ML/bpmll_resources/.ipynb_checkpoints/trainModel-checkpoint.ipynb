{
 "cells": [
  {
   "cell_type": "code",
   "execution_count": 1,
   "metadata": {},
   "outputs": [],
   "source": [
    "from torch import nn, tensor, Tensor, floor, exp, save, load\n",
    "from torch.nn.functional import normalize\n",
    "from torch.autograd import Variable\n",
    "import pandas as pd\n",
    "import numpy as np\n",
    "import matplotlib.pyplot as plt\n",
    "import seaborn as sns\n",
    "sns.set(style=\"darkgrid\")"
   ]
  },
  {
   "cell_type": "code",
   "execution_count": 2,
   "metadata": {},
   "outputs": [],
   "source": [
    "def create_model():\n",
    "    \n",
    "    D_in = 4\n",
    "    H1 = 100\n",
    "    H2 = 75\n",
    "    H3 = 50\n",
    "    H4 = 25\n",
    "    D_out = 13\n",
    "    \n",
    "    return nn.Sequential(\n",
    "        nn.Linear(D_in, H1),\n",
    "        nn.Tanh(),\n",
    "        nn.Linear(H1, H2),\n",
    "        nn.ReLU(),\n",
    "        nn.Linear(H2, H3),\n",
    "        nn.ReLU(),\n",
    "        nn.Linear(H3,H4),\n",
    "        nn.ReLU(),\n",
    "        nn.Linear(H4, D_out),\n",
    "        nn.Softmax(dim=0)\n",
    "    )"
   ]
  },
  {
   "cell_type": "code",
   "execution_count": 3,
   "metadata": {},
   "outputs": [],
   "source": [
    "class MultiLabelLoss(nn.Module):\n",
    "\n",
    "    def __init__(self):\n",
    "        super(MultiLabelLoss,self).__init__()\n",
    "\n",
    "    def forward(self, outputs, labels):\n",
    "        flatten = lambda l: [item for sublist in l for item in sublist]\n",
    "        \n",
    "        loss = Variable(tensor(0.),requires_grad=True)\n",
    "        m = len(outputs)\n",
    "        \n",
    "        for i in range(m):\n",
    "            Y     = flatten(labels[i].nonzero().tolist())\n",
    "            Y_bar = flatten((1-labels[i]).nonzero().tolist())\n",
    "            \n",
    "            cardinality = Variable(tensor(1/( len(Y)*len(Y_bar) )),requires_grad=True)\n",
    "            \n",
    "            ith_error = Variable(tensor(0.),requires_grad=True)\n",
    "\n",
    "            for k in Y:\n",
    "                for l in Y_bar:\n",
    "                    ith_error = ith_error + exp((-1*(outputs[i][k]-outputs[i][l])))\n",
    "            \n",
    "            loss = loss + cardinality * ith_error\n",
    "\n",
    "        return loss"
   ]
  },
  {
   "cell_type": "code",
   "execution_count": 4,
   "metadata": {},
   "outputs": [],
   "source": [
    "def train_model(model, train_input, train_target, test_input, test_target, mini_batch_size, eta):\n",
    "    \n",
    "    criterion = MultiLabelLoss()\n",
    "    \n",
    "    epochs = floor(Tensor([train_input.size(0)/mini_batch_size])).item()\n",
    "    \n",
    "    train_losses, train_accuracy = [], []\n",
    "    test_losses, test_accuracy = [], []\n",
    "    \n",
    "    for e in range(int(epochs)):\n",
    "        \n",
    "        train_sum_loss = []\n",
    "        \n",
    "        for b in range(0, train_input.size(0), mini_batch_size):\n",
    "                        \n",
    "            train_output = model(train_input.narrow(0, b, mini_batch_size))\n",
    "            train_loss = criterion(train_output, train_target.narrow(0, b, mini_batch_size))\n",
    "            train_sum_loss.extend([train_loss.item()])\n",
    "            \n",
    "            model.zero_grad()\n",
    "            train_loss.backward()\n",
    "            \n",
    "            for p in model.parameters():\n",
    "                p.data.sub_(eta * p.grad.data)\n",
    "\n",
    "        test_output = model(test_input)\n",
    "        test_loss = criterion(test_output, test_target)\n",
    "        \n",
    "        train_losses.extend([sum(train_sum_loss)/len(train_sum_loss)])\n",
    "        test_losses.extend([test_loss.item()])\n",
    "        \n",
    "        train_acc = 1 - (compute_errors(model, train_input.detach(), train_target, mini_batch_size) / train_input.shape[0])\n",
    "        test_acc = 1 - (compute_errors(model, test_input.detach(), test_target, mini_batch_size) / test_input.shape[0])\n",
    "        train_accuracy.extend([train_acc])\n",
    "        test_accuracy.extend([test_acc])\n",
    "        \n",
    "        print(e+1, train_loss.item())\n",
    "        \n",
    "    return train_losses, train_accuracy, test_losses, test_accuracy"
   ]
  },
  {
   "cell_type": "code",
   "execution_count": 5,
   "metadata": {},
   "outputs": [],
   "source": [
    "def compute_errors(model, input_, target_, mini_batch_size):\n",
    "    errors = 0\n",
    "\n",
    "    for b in range(0, input_.size(0), mini_batch_size):\n",
    "        output = model(input_.narrow(0, b, mini_batch_size))\n",
    "        predicted_classes = output.data\n",
    "        for k in range(mini_batch_size):\n",
    "            target = target_.data[k+b].nonzero()\n",
    "            values,indices = predicted_classes[k].topk(2)\n",
    "            if (sum([1 for index in indices if index in target])!=2):\n",
    "                errors = errors + 1\n",
    "        \n",
    "    return errors"
   ]
  },
  {
   "cell_type": "code",
   "execution_count": 6,
   "metadata": {},
   "outputs": [],
   "source": [
    "def create_feature_vector(responses):\n",
    "    if len(responses) != 23:\n",
    "        print(\"The survey has missing values.\")\n",
    "        return 0\n",
    "    else:\n",
    "        return [sum(responses[0:6])/6 , sum(responses[6:14])/8,\n",
    "                responses[14:20].count(0)/6 , responses[20:23].count(0)/3]"
   ]
  },
  {
   "cell_type": "markdown",
   "metadata": {},
   "source": [
    "# FUNCTION DEFINITIONS END\n",
    "\n",
    "---"
   ]
  },
  {
   "cell_type": "code",
   "execution_count": 7,
   "metadata": {},
   "outputs": [],
   "source": [
    "df = pd.read_pickle(\"./responses.pkl\")\n",
    "df_1E = df[df['persona'] == '1E']\n",
    "df_1M = df[df['persona'] == '1M']\n",
    "df_1H = df[df['persona'] == '1H']\n",
    "df_2E = df[df['persona'] == '2E']\n",
    "df_2M = df[df['persona'] == '2M']\n",
    "df_2H = df[df['persona'] == '2H']\n",
    "df_3E = df[df['persona'] == '3E']\n",
    "df_3M = df[df['persona'] == '3M']\n",
    "df_3H = df[df['persona'] == '3H']\n",
    "df_4E = df[df['persona'] == '4E']\n",
    "df_4M = df[df['persona'] == '4M']\n",
    "df_4H = df[df['persona'] == '4H']\n",
    "\n",
    "testing = pd.concat([df_1E.iloc[[0,-1]],\n",
    "                     df_1M.iloc[[0,-1]],\n",
    "                     df_1H.iloc[[0,-1]],\n",
    "                     df_2E.iloc[[0,-1]],\n",
    "                     df_2M.iloc[[0,-1]],\n",
    "                     df_2H.iloc[[0,-1]],\n",
    "                     df_3E.iloc[[0,-1]],\n",
    "                     df_3M.iloc[[0,-1]],\n",
    "                     df_3H.iloc[[0,-1]],\n",
    "                     df_4E.iloc[[0,-1]],\n",
    "                     df_4M.iloc[[0,-1]],\n",
    "                     df_4H.iloc[[0,-1]]\n",
    "                    ]).sort_index()\n",
    "\n",
    "training = pd.concat([df_1E.iloc[1:-1],\n",
    "                     df_1M.iloc[1:-1],\n",
    "                     df_1H.iloc[1:-1],\n",
    "                     df_2E.iloc[1:-1],\n",
    "                     df_2M.iloc[1:-1],\n",
    "                     df_2H.iloc[1:-1],\n",
    "                     df_3E.iloc[1:-1],\n",
    "                     df_3M.iloc[1:-1],\n",
    "                     df_3H.iloc[1:-1],\n",
    "                     df_4E.iloc[1:-1],\n",
    "                     df_4M.iloc[1:-1],\n",
    "                     df_4H.iloc[1:-1]\n",
    "                    ]).sort_index()"
   ]
  },
  {
   "cell_type": "code",
   "execution_count": 8,
   "metadata": {},
   "outputs": [
    {
     "name": "stdout",
     "output_type": "stream",
     "text": [
      "24\n",
      "96\n"
     ]
    }
   ],
   "source": [
    "print(len(testing))\n",
    "print(len(training))"
   ]
  },
  {
   "cell_type": "code",
   "execution_count": 9,
   "metadata": {},
   "outputs": [
    {
     "name": "stdout",
     "output_type": "stream",
     "text": [
      "torch.Size([96, 4])\n",
      "torch.Size([96, 11])\n",
      "torch.Size([24, 4])\n",
      "torch.Size([24, 11])\n"
     ]
    }
   ],
   "source": [
    "X_train = Variable(Tensor([create_feature_vector(entry) for entry in list(training['responses'])]),requires_grad=True)\n",
    "y_train = Variable(Tensor(training['target'].tolist()))\n",
    "print(X_train.shape)\n",
    "print(y_train.shape)\n",
    "\n",
    "X_test = Variable(Tensor([create_feature_vector(entry) for entry in list(testing['responses'])]),requires_grad=True)\n",
    "y_test = Variable(Tensor(testing['target'].tolist()))\n",
    "print(X_test.shape)\n",
    "print(y_test.shape)"
   ]
  },
  {
   "cell_type": "code",
   "execution_count": 36,
   "metadata": {
    "scrolled": false
   },
   "outputs": [
    {
     "name": "stdout",
     "output_type": "stream",
     "text": [
      "1 1.9991894960403442\n",
      "2 1.9980268478393555\n",
      "3 1.9967882633209229\n",
      "4 1.9950041770935059\n",
      "5 1.9925541877746582\n",
      "6 1.9887243509292603\n",
      "7 1.9808051586151123\n",
      "8 1.967324137687683\n",
      "9 1.944640874862671\n",
      "10 1.8958797454833984\n",
      "11 1.7980523109436035\n",
      "12 1.6356663703918457\n",
      "13 1.5404324531555176\n",
      "14 1.5310733318328857\n",
      "15 1.5337421894073486\n",
      "16 1.5366685390472412\n",
      "17 1.5337560176849365\n",
      "18 1.5280951261520386\n",
      "19 1.5299252271652222\n",
      "20 1.52604079246521\n",
      "21 1.523371934890747\n",
      "22 1.528442621231079\n",
      "23 1.525456190109253\n",
      "24 1.5266977548599243\n",
      "25 1.5275169610977173\n",
      "26 1.5296108722686768\n",
      "27 1.5269625186920166\n",
      "28 1.528162956237793\n",
      "29 1.530289888381958\n",
      "30 1.5313804149627686\n",
      "31 1.5343831777572632\n",
      "32 1.5333161354064941\n",
      "33 1.5332627296447754\n",
      "34 1.5392858982086182\n",
      "35 1.5388215780258179\n",
      "36 1.541105031967163\n",
      "37 1.542707920074463\n",
      "38 1.5435123443603516\n",
      "39 1.548250436782837\n",
      "40 1.5428051948547363\n",
      "41 1.546008586883545\n",
      "42 1.5460519790649414\n",
      "43 1.5458791255950928\n",
      "44 1.539315104484558\n",
      "45 1.5416086912155151\n",
      "46 1.5442399978637695\n",
      "47 1.5419058799743652\n",
      "48 1.5415431261062622\n",
      "\n",
      "Final Model Training Error:\t18.75%\n",
      "Final Model Testing Error:\t25.00%\n"
     ]
    }
   ],
   "source": [
    "model = create_model()\n",
    "mini_batch_size = 2 # 96 / 2 = 48\n",
    "eta = 1e-1\n",
    "l_train, a_train, l_test, a_test = train_model(model, X_train, y_train, X_test, y_test, mini_batch_size, eta)\n",
    "e_train = 100 * (compute_errors(model, X_train.detach(), y_train, mini_batch_size) / X_train.shape[0])\n",
    "e_test = 100 * (compute_errors(model, X_test.detach(), y_test, mini_batch_size) / X_test.shape[0])\n",
    "print('\\nFinal Model Training Error:\\t{0:.2f}%\\nFinal Model Testing Error:\\t{1:.2f}%'.format(e_train,e_test))"
   ]
  },
  {
   "cell_type": "code",
   "execution_count": 39,
   "metadata": {},
   "outputs": [
    {
     "data": {
      "image/png": "[encoded data removed]",
      "text/plain": [
       "<Figure size 432x288 with 2 Axes>"
      ]
     },
     "metadata": {},
     "output_type": "display_data"
    },
    {
     "name": "stdout",
     "output_type": "stream",
     "text": [
      "0.8333333333333334\n",
      "0.75\n"
     ]
    }
   ],
   "source": [
    "fig, ax1 = plt.subplots()\n",
    "\n",
    "color=sns.color_palette()[0]\n",
    "ax1.plot(a_train,color=color)\n",
    "ax1.set_xlabel(\"Epoch\")\n",
    "ax1.tick_params(axis='y',length=0)\n",
    "ax1.set_yticks([0.2,0.3,0.4,0.5,0.6,0.7,0.8,0.9,1])\n",
    "\n",
    "ax2 = ax1.twinx()\n",
    "\n",
    "color=sns.color_palette()[1]\n",
    "ax2.plot(a_test,color=color)\n",
    "ax2.tick_params(axis='y',labelcolor='white',length=0)\n",
    "ax2.grid(False)\n",
    "ax2.set_yticks([0.2,0.3,0.4,0.5,0.6,0.7,0.8,0.9,1])\n",
    "\n",
    "fig.legend([\"Training\",\"Testing\"],frameon=False,loc='lower center',bbox_to_anchor=(0.77, 0.72))\n",
    "plt.title(\"Model Accuracy\")\n",
    "fig.tight_layout()\n",
    "\n",
    "plt.show()\n",
    "\n",
    "print(max(a_train))\n",
    "print(max(a_test))\n",
    "fig.savefig('./acc.png')"
   ]
  },
  {
   "cell_type": "code",
   "execution_count": 40,
   "metadata": {},
   "outputs": [
    {
     "data": {
      "image/png": "[encoded data removed]",
      "text/plain": [
       "<Figure size 432x288 with 2 Axes>"
      ]
     },
     "metadata": {},
     "output_type": "display_data"
    },
    {
     "name": "stdout",
     "output_type": "stream",
     "text": [
      "1.7064182211955388\n",
      "23.380483627319336\n"
     ]
    }
   ],
   "source": [
    "fig, ax1 = plt.subplots()\n",
    "\n",
    "color=sns.color_palette()[0]\n",
    "ax1.plot(l_train,color=color)\n",
    "ax1.set_xlabel(\"Epoch\")\n",
    "ax1.tick_params(axis='y',labelcolor=color,length=0)\n",
    "\n",
    "ax2 = ax1.twinx()\n",
    "\n",
    "color=sns.color_palette()[1]\n",
    "ax2.plot(l_test,color=color)\n",
    "ax2.tick_params(axis='y',labelcolor=color,length=0)\n",
    "ax2.grid(False)\n",
    "\n",
    "fig.legend([\"Training\",\"Testing\"],frameon=False,loc='lower center',bbox_to_anchor=(0.77, 0.72))\n",
    "plt.title(\"Model Loss\")\n",
    "fig.tight_layout()\n",
    "\n",
    "plt.show()\n",
    "\n",
    "print(min(l_train))\n",
    "print(min(l_test))\n",
    "fig.savefig('./loss.png')"
   ]
  },
  {
   "cell_type": "code",
   "execution_count": 41,
   "metadata": {},
   "outputs": [],
   "source": [
    "save(model.state_dict(), \"../model.pth\")"
   ]
  },
  {
   "cell_type": "code",
   "execution_count": null,
   "metadata": {},
   "outputs": [],
   "source": []
  }
 ],
 "metadata": {
  "kernelspec": {
   "display_name": "Python 3",
   "language": "python",
   "name": "python3"
  },
  "language_info": {
   "codemirror_mode": {
    "name": "ipython",
    "version": 3
   },
   "file_extension": ".py",
   "mimetype": "text/x-python",
   "name": "python",
   "nbconvert_exporter": "python",
   "pygments_lexer": "ipython3",
   "version": "3.7.1"
  }
 },
 "nbformat": 4,
 "nbformat_minor": 2
}
